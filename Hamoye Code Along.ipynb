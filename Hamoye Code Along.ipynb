{
 "cells": [
  {
   "cell_type": "markdown",
   "metadata": {},
   "source": [
    "### HAMOYE INTERNSHIP, SPRING, 2024: TAG ALONG CODE"
   ]
  },
  {
   "cell_type": "markdown",
   "metadata": {},
   "source": [
    "Track: Data Science\n",
    "\n",
    "Name: Oladokun Sunday Obasanjo\n",
    "\n",
    "Student ID: 1876e6e9a101f000\n",
    "\n",
    "Course: Introduction to Python for Machine Learning"
   ]
  },
  {
   "cell_type": "code",
   "execution_count": null,
   "metadata": {},
   "outputs": [],
   "source": [
    "# Import necessary libraries and packages\n",
    "import pandas as pd\n",
    "\n",
    "import numpy as np"
   ]
  },
  {
   "cell_type": "code",
   "execution_count": null,
   "metadata": {},
   "outputs": [],
   "source": [
    "# Load dataset and specify encoding as 'latin1'\n",
    "df = pd.read_csv(r'C:\\Users\\Black Concept\\Downloads\\FoodBalanceSheets_E_Africa_NOFLAG.csv', encoding='latin1')\n"
   ]
  },
  {
   "cell_type": "code",
   "execution_count": null,
   "metadata": {},
   "outputs": [],
   "source": [
    "# Check the first few rows\n",
    "df.head()"
   ]
  },
  {
   "cell_type": "code",
   "execution_count": null,
   "metadata": {},
   "outputs": [],
   "source": [
    "# Inspect the data\n",
    "df.info()"
   ]
  },
  {
   "cell_type": "code",
   "execution_count": null,
   "metadata": {},
   "outputs": [],
   "source": [
    "# Get the unique country names\n",
    "df.Area.unique()"
   ]
  },
  {
   "cell_type": "code",
   "execution_count": null,
   "metadata": {},
   "outputs": [],
   "source": [
    "# Area with least correlation with Element code\n",
    "\n",
    "# Select the columns we are interested in\n",
    "years = ['Y2015', 'Y2014', 'Y2016', 'Y2017']\n",
    "\n",
    "# Correlation for each year against 'Element code'\n",
    "for year in years:\n",
    "    correlation = round(df['Element Code'].corr(df[year]),4) # round the correlation to 4 decimal places\n",
    "    print(f\"Correlation between 'Element Code' and '{year}': {correlation}\") # print the correlations"
   ]
  },
  {
   "cell_type": "code",
   "execution_count": null,
   "metadata": {},
   "outputs": [],
   "source": [
    "# Total protein supply quantity in Madagascar 2015\n",
    "madagascar_protein_2015 = df.groupby(['Area','Element'])['Y2015'].sum()['Madagascar'].loc['Protein supply quantity (g/capita/day)']\n",
    "print(f'The total protein supply for Madagascar in 2015 is {madagascar_protein_2015}')"
   ]
  },
  {
   "cell_type": "code",
   "execution_count": null,
   "metadata": {},
   "outputs": [],
   "source": [
    "# Area with 7th lowest sum in 2017\n",
    "Area_7th_lowest_sum = df.groupby('Area')['Y2017'].sum().sort_values(ascending=False).tail(10)\n",
    "Area_7th_lowest_sum"
   ]
  },
  {
   "cell_type": "code",
   "execution_count": null,
   "metadata": {},
   "outputs": [],
   "source": [
    "# Total sum of wine produced in 2015 and 2018\n",
    "wine_2015_2018 = df.groupby('Item')[['Y2015','Y2018']].sum()\n",
    "filtered_wine_2015_2018 = wine_2015_2018[wine_2015_2018.index == 'Wine']\n",
    "filtered_wine_2015_2018"
   ]
  },
  {
   "cell_type": "code",
   "execution_count": null,
   "metadata": {},
   "outputs": [],
   "source": [
    "# Year with highest sum of stock variation\n",
    "stock_variation = df.groupby('Item')[['Y2014','Y2015','Y2016','Y2017','Y2018']].sum()\n",
    "\n",
    "# Loop through the aggregated data and sum the stocks for each year\n",
    "for item in stock_variation[['Y2014','Y2015','Y2016','Y2017','Y2018']]:\n",
    "    sum = stock_variation[item].sum()\n",
    "    highest_sum = sum.max()\n",
    "    print(f'The total sum for {item} is {sum}')"
   ]
  },
  {
   "cell_type": "code",
   "execution_count": null,
   "metadata": {},
   "outputs": [],
   "source": [
    "# Total number of processing in 2017\n",
    "processing_2017 = df.groupby('Element')['Y2017'].sum()['Processing']\n",
    "print(f'The total sum of processing carried out in 2017 is {processing_2017}')"
   ]
  },
  {
   "cell_type": "code",
   "execution_count": null,
   "metadata": {},
   "outputs": [],
   "source": [
    "# Unique countires number\n",
    "df.Area.nunique()"
   ]
  },
  {
   "cell_type": "code",
   "execution_count": null,
   "metadata": {},
   "outputs": [],
   "source": [
    "# Total number of missing values and the percentage in 2014, get percentage too\n",
    "years = ['Y2014', 'Y2015', 'Y2016', 'Y2017', 'Y2018']\n",
    "\n",
    "for year in years:\n",
    "    num_missing_values = df[year].isna().sum()\n",
    "    percentage_missing_values = round((num_missing_values/df.shape[0]) * (100),3)\n",
    "    print(f'The total number of missing values for {year} is {num_missing_values} and the percentage is {percentage_missing_values}')"
   ]
  },
  {
   "cell_type": "code",
   "execution_count": null,
   "metadata": {},
   "outputs": [],
   "source": [
    "# Area with highest sum in 2017\n",
    "stock_variation = df.groupby('Area')['Y2017'].sum()\n",
    "stock_variation.idxmax()"
   ]
  },
  {
   "cell_type": "code",
   "execution_count": null,
   "metadata": {},
   "outputs": [],
   "source": [
    "# Mean and Std for 2017 to 2 decimal places\n",
    "\n",
    "std_2017 = df['Y2017'].std()\n",
    "mean_2017 = df['Y2017'].mean()\n",
    "\n",
    "print(f'The standard deviation for the dataset for 2017 is {std_2017} and the mean is {mean_2017}')"
   ]
  }
 ],
 "metadata": {
  "kernelspec": {
   "display_name": "Python 3",
   "language": "python",
   "name": "python3"
  },
  "language_info": {
   "codemirror_mode": {
    "name": "ipython",
    "version": 3
   },
   "file_extension": ".py",
   "mimetype": "text/x-python",
   "name": "python",
   "nbconvert_exporter": "python",
   "pygments_lexer": "ipython3",
   "version": "3.12.2"
  }
 },
 "nbformat": 4,
 "nbformat_minor": 2
}
